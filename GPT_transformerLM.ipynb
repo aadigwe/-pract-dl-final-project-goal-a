{
  "nbformat": 4,
  "nbformat_minor": 0,
  "metadata": {
    "colab": {
      "name": "GPT_transformerLM.ipynb",
      "provenance": [],
      "collapsed_sections": [],
      "include_colab_link": true
    },
    "kernelspec": {
      "name": "python3",
      "display_name": "Python 3"
    },
    "accelerator": "GPU",
    "widgets": {
      "application/vnd.jupyter.widget-state+json": {
        "c039d5dea8314e11864a1f8fe55cf39f": {
          "model_module": "@jupyter-widgets/controls",
          "model_name": "HBoxModel",
          "state": {
            "_view_name": "HBoxView",
            "_dom_classes": [],
            "_model_name": "HBoxModel",
            "_view_module": "@jupyter-widgets/controls",
            "_model_module_version": "1.5.0",
            "_view_count": null,
            "_view_module_version": "1.5.0",
            "box_style": "",
            "layout": "IPY_MODEL_8bf7ba0778bf4e97a27da3a7f790f0c5",
            "_model_module": "@jupyter-widgets/controls",
            "children": [
              "IPY_MODEL_bec812752c97447ead8227691d8be388",
              "IPY_MODEL_cd818cab993b4a41bc1ef71cfa51f312"
            ]
          }
        },
        "8bf7ba0778bf4e97a27da3a7f790f0c5": {
          "model_module": "@jupyter-widgets/base",
          "model_name": "LayoutModel",
          "state": {
            "_view_name": "LayoutView",
            "grid_template_rows": null,
            "right": null,
            "justify_content": null,
            "_view_module": "@jupyter-widgets/base",
            "overflow": null,
            "_model_module_version": "1.2.0",
            "_view_count": null,
            "flex_flow": null,
            "width": null,
            "min_width": null,
            "border": null,
            "align_items": null,
            "bottom": null,
            "_model_module": "@jupyter-widgets/base",
            "top": null,
            "grid_column": null,
            "overflow_y": null,
            "overflow_x": null,
            "grid_auto_flow": null,
            "grid_area": null,
            "grid_template_columns": null,
            "flex": null,
            "_model_name": "LayoutModel",
            "justify_items": null,
            "grid_row": null,
            "max_height": null,
            "align_content": null,
            "visibility": null,
            "align_self": null,
            "height": null,
            "min_height": null,
            "padding": null,
            "grid_auto_rows": null,
            "grid_gap": null,
            "max_width": null,
            "order": null,
            "_view_module_version": "1.2.0",
            "grid_template_areas": null,
            "object_position": null,
            "object_fit": null,
            "grid_auto_columns": null,
            "margin": null,
            "display": null,
            "left": null
          }
        },
        "bec812752c97447ead8227691d8be388": {
          "model_module": "@jupyter-widgets/controls",
          "model_name": "FloatProgressModel",
          "state": {
            "_view_name": "ProgressView",
            "style": "IPY_MODEL_a591d8d730c144d1a56b264ece2fd3a0",
            "_dom_classes": [],
            "description": "Downloading: 100%",
            "_model_name": "FloatProgressModel",
            "bar_style": "success",
            "max": 665,
            "_view_module": "@jupyter-widgets/controls",
            "_model_module_version": "1.5.0",
            "value": 665,
            "_view_count": null,
            "_view_module_version": "1.5.0",
            "orientation": "horizontal",
            "min": 0,
            "description_tooltip": null,
            "_model_module": "@jupyter-widgets/controls",
            "layout": "IPY_MODEL_9a3d30d5ef0b4027b988344906704c52"
          }
        },
        "cd818cab993b4a41bc1ef71cfa51f312": {
          "model_module": "@jupyter-widgets/controls",
          "model_name": "HTMLModel",
          "state": {
            "_view_name": "HTMLView",
            "style": "IPY_MODEL_cf9d2fb014f0460d90d1585b49d3c82a",
            "_dom_classes": [],
            "description": "",
            "_model_name": "HTMLModel",
            "placeholder": "​",
            "_view_module": "@jupyter-widgets/controls",
            "_model_module_version": "1.5.0",
            "value": " 665/665 [00:00&lt;00:00, 10.0kB/s]",
            "_view_count": null,
            "_view_module_version": "1.5.0",
            "description_tooltip": null,
            "_model_module": "@jupyter-widgets/controls",
            "layout": "IPY_MODEL_72ea8af8ea644088a2da734c55c1f2f4"
          }
        },
        "a591d8d730c144d1a56b264ece2fd3a0": {
          "model_module": "@jupyter-widgets/controls",
          "model_name": "ProgressStyleModel",
          "state": {
            "_view_name": "StyleView",
            "_model_name": "ProgressStyleModel",
            "description_width": "initial",
            "_view_module": "@jupyter-widgets/base",
            "_model_module_version": "1.5.0",
            "_view_count": null,
            "_view_module_version": "1.2.0",
            "bar_color": null,
            "_model_module": "@jupyter-widgets/controls"
          }
        },
        "9a3d30d5ef0b4027b988344906704c52": {
          "model_module": "@jupyter-widgets/base",
          "model_name": "LayoutModel",
          "state": {
            "_view_name": "LayoutView",
            "grid_template_rows": null,
            "right": null,
            "justify_content": null,
            "_view_module": "@jupyter-widgets/base",
            "overflow": null,
            "_model_module_version": "1.2.0",
            "_view_count": null,
            "flex_flow": null,
            "width": null,
            "min_width": null,
            "border": null,
            "align_items": null,
            "bottom": null,
            "_model_module": "@jupyter-widgets/base",
            "top": null,
            "grid_column": null,
            "overflow_y": null,
            "overflow_x": null,
            "grid_auto_flow": null,
            "grid_area": null,
            "grid_template_columns": null,
            "flex": null,
            "_model_name": "LayoutModel",
            "justify_items": null,
            "grid_row": null,
            "max_height": null,
            "align_content": null,
            "visibility": null,
            "align_self": null,
            "height": null,
            "min_height": null,
            "padding": null,
            "grid_auto_rows": null,
            "grid_gap": null,
            "max_width": null,
            "order": null,
            "_view_module_version": "1.2.0",
            "grid_template_areas": null,
            "object_position": null,
            "object_fit": null,
            "grid_auto_columns": null,
            "margin": null,
            "display": null,
            "left": null
          }
        },
        "cf9d2fb014f0460d90d1585b49d3c82a": {
          "model_module": "@jupyter-widgets/controls",
          "model_name": "DescriptionStyleModel",
          "state": {
            "_view_name": "StyleView",
            "_model_name": "DescriptionStyleModel",
            "description_width": "",
            "_view_module": "@jupyter-widgets/base",
            "_model_module_version": "1.5.0",
            "_view_count": null,
            "_view_module_version": "1.2.0",
            "_model_module": "@jupyter-widgets/controls"
          }
        },
        "72ea8af8ea644088a2da734c55c1f2f4": {
          "model_module": "@jupyter-widgets/base",
          "model_name": "LayoutModel",
          "state": {
            "_view_name": "LayoutView",
            "grid_template_rows": null,
            "right": null,
            "justify_content": null,
            "_view_module": "@jupyter-widgets/base",
            "overflow": null,
            "_model_module_version": "1.2.0",
            "_view_count": null,
            "flex_flow": null,
            "width": null,
            "min_width": null,
            "border": null,
            "align_items": null,
            "bottom": null,
            "_model_module": "@jupyter-widgets/base",
            "top": null,
            "grid_column": null,
            "overflow_y": null,
            "overflow_x": null,
            "grid_auto_flow": null,
            "grid_area": null,
            "grid_template_columns": null,
            "flex": null,
            "_model_name": "LayoutModel",
            "justify_items": null,
            "grid_row": null,
            "max_height": null,
            "align_content": null,
            "visibility": null,
            "align_self": null,
            "height": null,
            "min_height": null,
            "padding": null,
            "grid_auto_rows": null,
            "grid_gap": null,
            "max_width": null,
            "order": null,
            "_view_module_version": "1.2.0",
            "grid_template_areas": null,
            "object_position": null,
            "object_fit": null,
            "grid_auto_columns": null,
            "margin": null,
            "display": null,
            "left": null
          }
        },
        "ed2254ccdbfe4590976d659e8c471e63": {
          "model_module": "@jupyter-widgets/controls",
          "model_name": "HBoxModel",
          "state": {
            "_view_name": "HBoxView",
            "_dom_classes": [],
            "_model_name": "HBoxModel",
            "_view_module": "@jupyter-widgets/controls",
            "_model_module_version": "1.5.0",
            "_view_count": null,
            "_view_module_version": "1.5.0",
            "box_style": "",
            "layout": "IPY_MODEL_b30831fc79074c04a0bed8b2d0adf1db",
            "_model_module": "@jupyter-widgets/controls",
            "children": [
              "IPY_MODEL_ac6f814816044e9dabb105f0c28d3245",
              "IPY_MODEL_9374e4a83fc44bfab04d35c49dc33890"
            ]
          }
        },
        "b30831fc79074c04a0bed8b2d0adf1db": {
          "model_module": "@jupyter-widgets/base",
          "model_name": "LayoutModel",
          "state": {
            "_view_name": "LayoutView",
            "grid_template_rows": null,
            "right": null,
            "justify_content": null,
            "_view_module": "@jupyter-widgets/base",
            "overflow": null,
            "_model_module_version": "1.2.0",
            "_view_count": null,
            "flex_flow": null,
            "width": null,
            "min_width": null,
            "border": null,
            "align_items": null,
            "bottom": null,
            "_model_module": "@jupyter-widgets/base",
            "top": null,
            "grid_column": null,
            "overflow_y": null,
            "overflow_x": null,
            "grid_auto_flow": null,
            "grid_area": null,
            "grid_template_columns": null,
            "flex": null,
            "_model_name": "LayoutModel",
            "justify_items": null,
            "grid_row": null,
            "max_height": null,
            "align_content": null,
            "visibility": null,
            "align_self": null,
            "height": null,
            "min_height": null,
            "padding": null,
            "grid_auto_rows": null,
            "grid_gap": null,
            "max_width": null,
            "order": null,
            "_view_module_version": "1.2.0",
            "grid_template_areas": null,
            "object_position": null,
            "object_fit": null,
            "grid_auto_columns": null,
            "margin": null,
            "display": null,
            "left": null
          }
        },
        "ac6f814816044e9dabb105f0c28d3245": {
          "model_module": "@jupyter-widgets/controls",
          "model_name": "FloatProgressModel",
          "state": {
            "_view_name": "ProgressView",
            "style": "IPY_MODEL_965a357d1da74956ae5a471e53f136a5",
            "_dom_classes": [],
            "description": "Downloading: 100%",
            "_model_name": "FloatProgressModel",
            "bar_style": "success",
            "max": 1042301,
            "_view_module": "@jupyter-widgets/controls",
            "_model_module_version": "1.5.0",
            "value": 1042301,
            "_view_count": null,
            "_view_module_version": "1.5.0",
            "orientation": "horizontal",
            "min": 0,
            "description_tooltip": null,
            "_model_module": "@jupyter-widgets/controls",
            "layout": "IPY_MODEL_0c82c6980113448fa730586f7415ce80"
          }
        },
        "9374e4a83fc44bfab04d35c49dc33890": {
          "model_module": "@jupyter-widgets/controls",
          "model_name": "HTMLModel",
          "state": {
            "_view_name": "HTMLView",
            "style": "IPY_MODEL_aad236322d13416a9c5ed1ae9e660612",
            "_dom_classes": [],
            "description": "",
            "_model_name": "HTMLModel",
            "placeholder": "​",
            "_view_module": "@jupyter-widgets/controls",
            "_model_module_version": "1.5.0",
            "value": " 1.04M/1.04M [01:31&lt;00:00, 11.4kB/s]",
            "_view_count": null,
            "_view_module_version": "1.5.0",
            "description_tooltip": null,
            "_model_module": "@jupyter-widgets/controls",
            "layout": "IPY_MODEL_b67a3c26f8c441ef8cd00f5c6a81dad8"
          }
        },
        "965a357d1da74956ae5a471e53f136a5": {
          "model_module": "@jupyter-widgets/controls",
          "model_name": "ProgressStyleModel",
          "state": {
            "_view_name": "StyleView",
            "_model_name": "ProgressStyleModel",
            "description_width": "initial",
            "_view_module": "@jupyter-widgets/base",
            "_model_module_version": "1.5.0",
            "_view_count": null,
            "_view_module_version": "1.2.0",
            "bar_color": null,
            "_model_module": "@jupyter-widgets/controls"
          }
        },
        "0c82c6980113448fa730586f7415ce80": {
          "model_module": "@jupyter-widgets/base",
          "model_name": "LayoutModel",
          "state": {
            "_view_name": "LayoutView",
            "grid_template_rows": null,
            "right": null,
            "justify_content": null,
            "_view_module": "@jupyter-widgets/base",
            "overflow": null,
            "_model_module_version": "1.2.0",
            "_view_count": null,
            "flex_flow": null,
            "width": null,
            "min_width": null,
            "border": null,
            "align_items": null,
            "bottom": null,
            "_model_module": "@jupyter-widgets/base",
            "top": null,
            "grid_column": null,
            "overflow_y": null,
            "overflow_x": null,
            "grid_auto_flow": null,
            "grid_area": null,
            "grid_template_columns": null,
            "flex": null,
            "_model_name": "LayoutModel",
            "justify_items": null,
            "grid_row": null,
            "max_height": null,
            "align_content": null,
            "visibility": null,
            "align_self": null,
            "height": null,
            "min_height": null,
            "padding": null,
            "grid_auto_rows": null,
            "grid_gap": null,
            "max_width": null,
            "order": null,
            "_view_module_version": "1.2.0",
            "grid_template_areas": null,
            "object_position": null,
            "object_fit": null,
            "grid_auto_columns": null,
            "margin": null,
            "display": null,
            "left": null
          }
        },
        "aad236322d13416a9c5ed1ae9e660612": {
          "model_module": "@jupyter-widgets/controls",
          "model_name": "DescriptionStyleModel",
          "state": {
            "_view_name": "StyleView",
            "_model_name": "DescriptionStyleModel",
            "description_width": "",
            "_view_module": "@jupyter-widgets/base",
            "_model_module_version": "1.5.0",
            "_view_count": null,
            "_view_module_version": "1.2.0",
            "_model_module": "@jupyter-widgets/controls"
          }
        },
        "b67a3c26f8c441ef8cd00f5c6a81dad8": {
          "model_module": "@jupyter-widgets/base",
          "model_name": "LayoutModel",
          "state": {
            "_view_name": "LayoutView",
            "grid_template_rows": null,
            "right": null,
            "justify_content": null,
            "_view_module": "@jupyter-widgets/base",
            "overflow": null,
            "_model_module_version": "1.2.0",
            "_view_count": null,
            "flex_flow": null,
            "width": null,
            "min_width": null,
            "border": null,
            "align_items": null,
            "bottom": null,
            "_model_module": "@jupyter-widgets/base",
            "top": null,
            "grid_column": null,
            "overflow_y": null,
            "overflow_x": null,
            "grid_auto_flow": null,
            "grid_area": null,
            "grid_template_columns": null,
            "flex": null,
            "_model_name": "LayoutModel",
            "justify_items": null,
            "grid_row": null,
            "max_height": null,
            "align_content": null,
            "visibility": null,
            "align_self": null,
            "height": null,
            "min_height": null,
            "padding": null,
            "grid_auto_rows": null,
            "grid_gap": null,
            "max_width": null,
            "order": null,
            "_view_module_version": "1.2.0",
            "grid_template_areas": null,
            "object_position": null,
            "object_fit": null,
            "grid_auto_columns": null,
            "margin": null,
            "display": null,
            "left": null
          }
        },
        "2816b05b4a4e49999403613142e7ab3a": {
          "model_module": "@jupyter-widgets/controls",
          "model_name": "HBoxModel",
          "state": {
            "_view_name": "HBoxView",
            "_dom_classes": [],
            "_model_name": "HBoxModel",
            "_view_module": "@jupyter-widgets/controls",
            "_model_module_version": "1.5.0",
            "_view_count": null,
            "_view_module_version": "1.5.0",
            "box_style": "",
            "layout": "IPY_MODEL_77e4e98de6524d06b13bdcfa5dc1b03b",
            "_model_module": "@jupyter-widgets/controls",
            "children": [
              "IPY_MODEL_21f33edfb8e346329fc5630d91cce726",
              "IPY_MODEL_e9fdc70d4ea8484ebe4e6008b7b319d3"
            ]
          }
        },
        "77e4e98de6524d06b13bdcfa5dc1b03b": {
          "model_module": "@jupyter-widgets/base",
          "model_name": "LayoutModel",
          "state": {
            "_view_name": "LayoutView",
            "grid_template_rows": null,
            "right": null,
            "justify_content": null,
            "_view_module": "@jupyter-widgets/base",
            "overflow": null,
            "_model_module_version": "1.2.0",
            "_view_count": null,
            "flex_flow": null,
            "width": null,
            "min_width": null,
            "border": null,
            "align_items": null,
            "bottom": null,
            "_model_module": "@jupyter-widgets/base",
            "top": null,
            "grid_column": null,
            "overflow_y": null,
            "overflow_x": null,
            "grid_auto_flow": null,
            "grid_area": null,
            "grid_template_columns": null,
            "flex": null,
            "_model_name": "LayoutModel",
            "justify_items": null,
            "grid_row": null,
            "max_height": null,
            "align_content": null,
            "visibility": null,
            "align_self": null,
            "height": null,
            "min_height": null,
            "padding": null,
            "grid_auto_rows": null,
            "grid_gap": null,
            "max_width": null,
            "order": null,
            "_view_module_version": "1.2.0",
            "grid_template_areas": null,
            "object_position": null,
            "object_fit": null,
            "grid_auto_columns": null,
            "margin": null,
            "display": null,
            "left": null
          }
        },
        "21f33edfb8e346329fc5630d91cce726": {
          "model_module": "@jupyter-widgets/controls",
          "model_name": "FloatProgressModel",
          "state": {
            "_view_name": "ProgressView",
            "style": "IPY_MODEL_4424af7466fe4579a8666d5ec477246e",
            "_dom_classes": [],
            "description": "Downloading: 100%",
            "_model_name": "FloatProgressModel",
            "bar_style": "success",
            "max": 456318,
            "_view_module": "@jupyter-widgets/controls",
            "_model_module_version": "1.5.0",
            "value": 456318,
            "_view_count": null,
            "_view_module_version": "1.5.0",
            "orientation": "horizontal",
            "min": 0,
            "description_tooltip": null,
            "_model_module": "@jupyter-widgets/controls",
            "layout": "IPY_MODEL_3bb3dd86dcbd4b31896028f4794823f1"
          }
        },
        "e9fdc70d4ea8484ebe4e6008b7b319d3": {
          "model_module": "@jupyter-widgets/controls",
          "model_name": "HTMLModel",
          "state": {
            "_view_name": "HTMLView",
            "style": "IPY_MODEL_4724711046e24bb5af8446bb3e617943",
            "_dom_classes": [],
            "description": "",
            "_model_name": "HTMLModel",
            "placeholder": "​",
            "_view_module": "@jupyter-widgets/controls",
            "_model_module_version": "1.5.0",
            "value": " 456k/456k [01:31&lt;00:00, 4.99kB/s]",
            "_view_count": null,
            "_view_module_version": "1.5.0",
            "description_tooltip": null,
            "_model_module": "@jupyter-widgets/controls",
            "layout": "IPY_MODEL_763d1b6c2b2b48ea8fb46912109495c7"
          }
        },
        "4424af7466fe4579a8666d5ec477246e": {
          "model_module": "@jupyter-widgets/controls",
          "model_name": "ProgressStyleModel",
          "state": {
            "_view_name": "StyleView",
            "_model_name": "ProgressStyleModel",
            "description_width": "initial",
            "_view_module": "@jupyter-widgets/base",
            "_model_module_version": "1.5.0",
            "_view_count": null,
            "_view_module_version": "1.2.0",
            "bar_color": null,
            "_model_module": "@jupyter-widgets/controls"
          }
        },
        "3bb3dd86dcbd4b31896028f4794823f1": {
          "model_module": "@jupyter-widgets/base",
          "model_name": "LayoutModel",
          "state": {
            "_view_name": "LayoutView",
            "grid_template_rows": null,
            "right": null,
            "justify_content": null,
            "_view_module": "@jupyter-widgets/base",
            "overflow": null,
            "_model_module_version": "1.2.0",
            "_view_count": null,
            "flex_flow": null,
            "width": null,
            "min_width": null,
            "border": null,
            "align_items": null,
            "bottom": null,
            "_model_module": "@jupyter-widgets/base",
            "top": null,
            "grid_column": null,
            "overflow_y": null,
            "overflow_x": null,
            "grid_auto_flow": null,
            "grid_area": null,
            "grid_template_columns": null,
            "flex": null,
            "_model_name": "LayoutModel",
            "justify_items": null,
            "grid_row": null,
            "max_height": null,
            "align_content": null,
            "visibility": null,
            "align_self": null,
            "height": null,
            "min_height": null,
            "padding": null,
            "grid_auto_rows": null,
            "grid_gap": null,
            "max_width": null,
            "order": null,
            "_view_module_version": "1.2.0",
            "grid_template_areas": null,
            "object_position": null,
            "object_fit": null,
            "grid_auto_columns": null,
            "margin": null,
            "display": null,
            "left": null
          }
        },
        "4724711046e24bb5af8446bb3e617943": {
          "model_module": "@jupyter-widgets/controls",
          "model_name": "DescriptionStyleModel",
          "state": {
            "_view_name": "StyleView",
            "_model_name": "DescriptionStyleModel",
            "description_width": "",
            "_view_module": "@jupyter-widgets/base",
            "_model_module_version": "1.5.0",
            "_view_count": null,
            "_view_module_version": "1.2.0",
            "_model_module": "@jupyter-widgets/controls"
          }
        },
        "763d1b6c2b2b48ea8fb46912109495c7": {
          "model_module": "@jupyter-widgets/base",
          "model_name": "LayoutModel",
          "state": {
            "_view_name": "LayoutView",
            "grid_template_rows": null,
            "right": null,
            "justify_content": null,
            "_view_module": "@jupyter-widgets/base",
            "overflow": null,
            "_model_module_version": "1.2.0",
            "_view_count": null,
            "flex_flow": null,
            "width": null,
            "min_width": null,
            "border": null,
            "align_items": null,
            "bottom": null,
            "_model_module": "@jupyter-widgets/base",
            "top": null,
            "grid_column": null,
            "overflow_y": null,
            "overflow_x": null,
            "grid_auto_flow": null,
            "grid_area": null,
            "grid_template_columns": null,
            "flex": null,
            "_model_name": "LayoutModel",
            "justify_items": null,
            "grid_row": null,
            "max_height": null,
            "align_content": null,
            "visibility": null,
            "align_self": null,
            "height": null,
            "min_height": null,
            "padding": null,
            "grid_auto_rows": null,
            "grid_gap": null,
            "max_width": null,
            "order": null,
            "_view_module_version": "1.2.0",
            "grid_template_areas": null,
            "object_position": null,
            "object_fit": null,
            "grid_auto_columns": null,
            "margin": null,
            "display": null,
            "left": null
          }
        },
        "4960b38510464cbf927e694f53327fe0": {
          "model_module": "@jupyter-widgets/controls",
          "model_name": "HBoxModel",
          "state": {
            "_view_name": "HBoxView",
            "_dom_classes": [],
            "_model_name": "HBoxModel",
            "_view_module": "@jupyter-widgets/controls",
            "_model_module_version": "1.5.0",
            "_view_count": null,
            "_view_module_version": "1.5.0",
            "box_style": "",
            "layout": "IPY_MODEL_5f2a9615876842dfb2f10424aef7b1c9",
            "_model_module": "@jupyter-widgets/controls",
            "children": [
              "IPY_MODEL_e0e7372f71224ecb84d5b2a4a13d7f6c",
              "IPY_MODEL_e72d78e9a7a449d09c167738d565a70c"
            ]
          }
        },
        "5f2a9615876842dfb2f10424aef7b1c9": {
          "model_module": "@jupyter-widgets/base",
          "model_name": "LayoutModel",
          "state": {
            "_view_name": "LayoutView",
            "grid_template_rows": null,
            "right": null,
            "justify_content": null,
            "_view_module": "@jupyter-widgets/base",
            "overflow": null,
            "_model_module_version": "1.2.0",
            "_view_count": null,
            "flex_flow": null,
            "width": null,
            "min_width": null,
            "border": null,
            "align_items": null,
            "bottom": null,
            "_model_module": "@jupyter-widgets/base",
            "top": null,
            "grid_column": null,
            "overflow_y": null,
            "overflow_x": null,
            "grid_auto_flow": null,
            "grid_area": null,
            "grid_template_columns": null,
            "flex": null,
            "_model_name": "LayoutModel",
            "justify_items": null,
            "grid_row": null,
            "max_height": null,
            "align_content": null,
            "visibility": null,
            "align_self": null,
            "height": null,
            "min_height": null,
            "padding": null,
            "grid_auto_rows": null,
            "grid_gap": null,
            "max_width": null,
            "order": null,
            "_view_module_version": "1.2.0",
            "grid_template_areas": null,
            "object_position": null,
            "object_fit": null,
            "grid_auto_columns": null,
            "margin": null,
            "display": null,
            "left": null
          }
        },
        "e0e7372f71224ecb84d5b2a4a13d7f6c": {
          "model_module": "@jupyter-widgets/controls",
          "model_name": "FloatProgressModel",
          "state": {
            "_view_name": "ProgressView",
            "style": "IPY_MODEL_f527ffc82eba49dd9d86043d47851302",
            "_dom_classes": [],
            "description": "Downloading: 100%",
            "_model_name": "FloatProgressModel",
            "bar_style": "success",
            "max": 1355256,
            "_view_module": "@jupyter-widgets/controls",
            "_model_module_version": "1.5.0",
            "value": 1355256,
            "_view_count": null,
            "_view_module_version": "1.5.0",
            "orientation": "horizontal",
            "min": 0,
            "description_tooltip": null,
            "_model_module": "@jupyter-widgets/controls",
            "layout": "IPY_MODEL_86b6c12ba550461bb022d7ecb3c6aed5"
          }
        },
        "e72d78e9a7a449d09c167738d565a70c": {
          "model_module": "@jupyter-widgets/controls",
          "model_name": "HTMLModel",
          "state": {
            "_view_name": "HTMLView",
            "style": "IPY_MODEL_c67bac668aa74385a032cafbdcb4bfeb",
            "_dom_classes": [],
            "description": "",
            "_model_name": "HTMLModel",
            "placeholder": "​",
            "_view_module": "@jupyter-widgets/controls",
            "_model_module_version": "1.5.0",
            "value": " 1.36M/1.36M [01:31&lt;00:00, 14.8kB/s]",
            "_view_count": null,
            "_view_module_version": "1.5.0",
            "description_tooltip": null,
            "_model_module": "@jupyter-widgets/controls",
            "layout": "IPY_MODEL_2754823e579045d480587747d5a8f4c8"
          }
        },
        "f527ffc82eba49dd9d86043d47851302": {
          "model_module": "@jupyter-widgets/controls",
          "model_name": "ProgressStyleModel",
          "state": {
            "_view_name": "StyleView",
            "_model_name": "ProgressStyleModel",
            "description_width": "initial",
            "_view_module": "@jupyter-widgets/base",
            "_model_module_version": "1.5.0",
            "_view_count": null,
            "_view_module_version": "1.2.0",
            "bar_color": null,
            "_model_module": "@jupyter-widgets/controls"
          }
        },
        "86b6c12ba550461bb022d7ecb3c6aed5": {
          "model_module": "@jupyter-widgets/base",
          "model_name": "LayoutModel",
          "state": {
            "_view_name": "LayoutView",
            "grid_template_rows": null,
            "right": null,
            "justify_content": null,
            "_view_module": "@jupyter-widgets/base",
            "overflow": null,
            "_model_module_version": "1.2.0",
            "_view_count": null,
            "flex_flow": null,
            "width": null,
            "min_width": null,
            "border": null,
            "align_items": null,
            "bottom": null,
            "_model_module": "@jupyter-widgets/base",
            "top": null,
            "grid_column": null,
            "overflow_y": null,
            "overflow_x": null,
            "grid_auto_flow": null,
            "grid_area": null,
            "grid_template_columns": null,
            "flex": null,
            "_model_name": "LayoutModel",
            "justify_items": null,
            "grid_row": null,
            "max_height": null,
            "align_content": null,
            "visibility": null,
            "align_self": null,
            "height": null,
            "min_height": null,
            "padding": null,
            "grid_auto_rows": null,
            "grid_gap": null,
            "max_width": null,
            "order": null,
            "_view_module_version": "1.2.0",
            "grid_template_areas": null,
            "object_position": null,
            "object_fit": null,
            "grid_auto_columns": null,
            "margin": null,
            "display": null,
            "left": null
          }
        },
        "c67bac668aa74385a032cafbdcb4bfeb": {
          "model_module": "@jupyter-widgets/controls",
          "model_name": "DescriptionStyleModel",
          "state": {
            "_view_name": "StyleView",
            "_model_name": "DescriptionStyleModel",
            "description_width": "",
            "_view_module": "@jupyter-widgets/base",
            "_model_module_version": "1.5.0",
            "_view_count": null,
            "_view_module_version": "1.2.0",
            "_model_module": "@jupyter-widgets/controls"
          }
        },
        "2754823e579045d480587747d5a8f4c8": {
          "model_module": "@jupyter-widgets/base",
          "model_name": "LayoutModel",
          "state": {
            "_view_name": "LayoutView",
            "grid_template_rows": null,
            "right": null,
            "justify_content": null,
            "_view_module": "@jupyter-widgets/base",
            "overflow": null,
            "_model_module_version": "1.2.0",
            "_view_count": null,
            "flex_flow": null,
            "width": null,
            "min_width": null,
            "border": null,
            "align_items": null,
            "bottom": null,
            "_model_module": "@jupyter-widgets/base",
            "top": null,
            "grid_column": null,
            "overflow_y": null,
            "overflow_x": null,
            "grid_auto_flow": null,
            "grid_area": null,
            "grid_template_columns": null,
            "flex": null,
            "_model_name": "LayoutModel",
            "justify_items": null,
            "grid_row": null,
            "max_height": null,
            "align_content": null,
            "visibility": null,
            "align_self": null,
            "height": null,
            "min_height": null,
            "padding": null,
            "grid_auto_rows": null,
            "grid_gap": null,
            "max_width": null,
            "order": null,
            "_view_module_version": "1.2.0",
            "grid_template_areas": null,
            "object_position": null,
            "object_fit": null,
            "grid_auto_columns": null,
            "margin": null,
            "display": null,
            "left": null
          }
        },
        "f59b670f130a483bb289370ec7f15305": {
          "model_module": "@jupyter-widgets/controls",
          "model_name": "HBoxModel",
          "state": {
            "_view_name": "HBoxView",
            "_dom_classes": [],
            "_model_name": "HBoxModel",
            "_view_module": "@jupyter-widgets/controls",
            "_model_module_version": "1.5.0",
            "_view_count": null,
            "_view_module_version": "1.5.0",
            "box_style": "",
            "layout": "IPY_MODEL_651a84e07e204bd99ab19bb73225b34b",
            "_model_module": "@jupyter-widgets/controls",
            "children": [
              "IPY_MODEL_30c2e7d86c6645aaad8da2000498d78d",
              "IPY_MODEL_6c3d702d83cc4c4c9d57810ac9a04d6b"
            ]
          }
        },
        "651a84e07e204bd99ab19bb73225b34b": {
          "model_module": "@jupyter-widgets/base",
          "model_name": "LayoutModel",
          "state": {
            "_view_name": "LayoutView",
            "grid_template_rows": null,
            "right": null,
            "justify_content": null,
            "_view_module": "@jupyter-widgets/base",
            "overflow": null,
            "_model_module_version": "1.2.0",
            "_view_count": null,
            "flex_flow": null,
            "width": null,
            "min_width": null,
            "border": null,
            "align_items": null,
            "bottom": null,
            "_model_module": "@jupyter-widgets/base",
            "top": null,
            "grid_column": null,
            "overflow_y": null,
            "overflow_x": null,
            "grid_auto_flow": null,
            "grid_area": null,
            "grid_template_columns": null,
            "flex": null,
            "_model_name": "LayoutModel",
            "justify_items": null,
            "grid_row": null,
            "max_height": null,
            "align_content": null,
            "visibility": null,
            "align_self": null,
            "height": null,
            "min_height": null,
            "padding": null,
            "grid_auto_rows": null,
            "grid_gap": null,
            "max_width": null,
            "order": null,
            "_view_module_version": "1.2.0",
            "grid_template_areas": null,
            "object_position": null,
            "object_fit": null,
            "grid_auto_columns": null,
            "margin": null,
            "display": null,
            "left": null
          }
        },
        "30c2e7d86c6645aaad8da2000498d78d": {
          "model_module": "@jupyter-widgets/controls",
          "model_name": "FloatProgressModel",
          "state": {
            "_view_name": "ProgressView",
            "style": "IPY_MODEL_bff51eb65ea84ecf93d3a816cf59be0e",
            "_dom_classes": [],
            "description": "Downloading: 100%",
            "_model_name": "FloatProgressModel",
            "bar_style": "success",
            "max": 548118077,
            "_view_module": "@jupyter-widgets/controls",
            "_model_module_version": "1.5.0",
            "value": 548118077,
            "_view_count": null,
            "_view_module_version": "1.5.0",
            "orientation": "horizontal",
            "min": 0,
            "description_tooltip": null,
            "_model_module": "@jupyter-widgets/controls",
            "layout": "IPY_MODEL_0e46cce0ce224583b66954925f0fdec9"
          }
        },
        "6c3d702d83cc4c4c9d57810ac9a04d6b": {
          "model_module": "@jupyter-widgets/controls",
          "model_name": "HTMLModel",
          "state": {
            "_view_name": "HTMLView",
            "style": "IPY_MODEL_2c5b72f893854464ac6d0953d371c9f4",
            "_dom_classes": [],
            "description": "",
            "_model_name": "HTMLModel",
            "placeholder": "​",
            "_view_module": "@jupyter-widgets/controls",
            "_model_module_version": "1.5.0",
            "value": " 548M/548M [00:08&lt;00:00, 66.1MB/s]",
            "_view_count": null,
            "_view_module_version": "1.5.0",
            "description_tooltip": null,
            "_model_module": "@jupyter-widgets/controls",
            "layout": "IPY_MODEL_b4815b4420374a40adc2b42dea6d7128"
          }
        },
        "bff51eb65ea84ecf93d3a816cf59be0e": {
          "model_module": "@jupyter-widgets/controls",
          "model_name": "ProgressStyleModel",
          "state": {
            "_view_name": "StyleView",
            "_model_name": "ProgressStyleModel",
            "description_width": "initial",
            "_view_module": "@jupyter-widgets/base",
            "_model_module_version": "1.5.0",
            "_view_count": null,
            "_view_module_version": "1.2.0",
            "bar_color": null,
            "_model_module": "@jupyter-widgets/controls"
          }
        },
        "0e46cce0ce224583b66954925f0fdec9": {
          "model_module": "@jupyter-widgets/base",
          "model_name": "LayoutModel",
          "state": {
            "_view_name": "LayoutView",
            "grid_template_rows": null,
            "right": null,
            "justify_content": null,
            "_view_module": "@jupyter-widgets/base",
            "overflow": null,
            "_model_module_version": "1.2.0",
            "_view_count": null,
            "flex_flow": null,
            "width": null,
            "min_width": null,
            "border": null,
            "align_items": null,
            "bottom": null,
            "_model_module": "@jupyter-widgets/base",
            "top": null,
            "grid_column": null,
            "overflow_y": null,
            "overflow_x": null,
            "grid_auto_flow": null,
            "grid_area": null,
            "grid_template_columns": null,
            "flex": null,
            "_model_name": "LayoutModel",
            "justify_items": null,
            "grid_row": null,
            "max_height": null,
            "align_content": null,
            "visibility": null,
            "align_self": null,
            "height": null,
            "min_height": null,
            "padding": null,
            "grid_auto_rows": null,
            "grid_gap": null,
            "max_width": null,
            "order": null,
            "_view_module_version": "1.2.0",
            "grid_template_areas": null,
            "object_position": null,
            "object_fit": null,
            "grid_auto_columns": null,
            "margin": null,
            "display": null,
            "left": null
          }
        },
        "2c5b72f893854464ac6d0953d371c9f4": {
          "model_module": "@jupyter-widgets/controls",
          "model_name": "DescriptionStyleModel",
          "state": {
            "_view_name": "StyleView",
            "_model_name": "DescriptionStyleModel",
            "description_width": "",
            "_view_module": "@jupyter-widgets/base",
            "_model_module_version": "1.5.0",
            "_view_count": null,
            "_view_module_version": "1.2.0",
            "_model_module": "@jupyter-widgets/controls"
          }
        },
        "b4815b4420374a40adc2b42dea6d7128": {
          "model_module": "@jupyter-widgets/base",
          "model_name": "LayoutModel",
          "state": {
            "_view_name": "LayoutView",
            "grid_template_rows": null,
            "right": null,
            "justify_content": null,
            "_view_module": "@jupyter-widgets/base",
            "overflow": null,
            "_model_module_version": "1.2.0",
            "_view_count": null,
            "flex_flow": null,
            "width": null,
            "min_width": null,
            "border": null,
            "align_items": null,
            "bottom": null,
            "_model_module": "@jupyter-widgets/base",
            "top": null,
            "grid_column": null,
            "overflow_y": null,
            "overflow_x": null,
            "grid_auto_flow": null,
            "grid_area": null,
            "grid_template_columns": null,
            "flex": null,
            "_model_name": "LayoutModel",
            "justify_items": null,
            "grid_row": null,
            "max_height": null,
            "align_content": null,
            "visibility": null,
            "align_self": null,
            "height": null,
            "min_height": null,
            "padding": null,
            "grid_auto_rows": null,
            "grid_gap": null,
            "max_width": null,
            "order": null,
            "_view_module_version": "1.2.0",
            "grid_template_areas": null,
            "object_position": null,
            "object_fit": null,
            "grid_auto_columns": null,
            "margin": null,
            "display": null,
            "left": null
          }
        }
      }
    }
  },
  "cells": [
    {
      "cell_type": "markdown",
      "metadata": {
        "id": "view-in-github",
        "colab_type": "text"
      },
      "source": [
        "<a href=\"https://colab.research.google.com/github/aadigwe/-pract-dl-final-project-goal-a/blob/main/GPT_transformerLM.ipynb\" target=\"_parent\"><img src=\"https://colab.research.google.com/assets/colab-badge.svg\" alt=\"Open In Colab\"/></a>"
      ]
    },
    {
      "cell_type": "code",
      "metadata": {
        "colab": {
          "base_uri": "https://localhost:8080/"
        },
        "id": "N-XUW7aD5zhf",
        "outputId": "e31b8ab5-3fb2-4bc0-87ea-5c0fa3289601"
      },
      "source": [
        "!pip install transformers\n",
        "!nvidia-smi"
      ],
      "execution_count": null,
      "outputs": [
        {
          "output_type": "stream",
          "text": [
            "Collecting transformers\n",
            "\u001b[?25l  Downloading https://files.pythonhosted.org/packages/50/0c/7d5950fcd80b029be0a8891727ba21e0cd27692c407c51261c3c921f6da3/transformers-4.1.1-py3-none-any.whl (1.5MB)\n",
            "\r\u001b[K     |▏                               | 10kB 20.1MB/s eta 0:00:01\r\u001b[K     |▍                               | 20kB 26.1MB/s eta 0:00:01\r\u001b[K     |▋                               | 30kB 30.4MB/s eta 0:00:01\r\u001b[K     |▉                               | 40kB 32.5MB/s eta 0:00:01\r\u001b[K     |█                               | 51kB 33.9MB/s eta 0:00:01\r\u001b[K     |█▎                              | 61kB 36.1MB/s eta 0:00:01\r\u001b[K     |█▌                              | 71kB 26.4MB/s eta 0:00:01\r\u001b[K     |█▊                              | 81kB 23.1MB/s eta 0:00:01\r\u001b[K     |██                              | 92kB 24.4MB/s eta 0:00:01\r\u001b[K     |██▏                             | 102kB 22.4MB/s eta 0:00:01\r\u001b[K     |██▍                             | 112kB 22.4MB/s eta 0:00:01\r\u001b[K     |██▋                             | 122kB 22.4MB/s eta 0:00:01\r\u001b[K     |██▉                             | 133kB 22.4MB/s eta 0:00:01\r\u001b[K     |███                             | 143kB 22.4MB/s eta 0:00:01\r\u001b[K     |███▎                            | 153kB 22.4MB/s eta 0:00:01\r\u001b[K     |███▌                            | 163kB 22.4MB/s eta 0:00:01\r\u001b[K     |███▊                            | 174kB 22.4MB/s eta 0:00:01\r\u001b[K     |████                            | 184kB 22.4MB/s eta 0:00:01\r\u001b[K     |████▏                           | 194kB 22.4MB/s eta 0:00:01\r\u001b[K     |████▎                           | 204kB 22.4MB/s eta 0:00:01\r\u001b[K     |████▌                           | 215kB 22.4MB/s eta 0:00:01\r\u001b[K     |████▊                           | 225kB 22.4MB/s eta 0:00:01\r\u001b[K     |█████                           | 235kB 22.4MB/s eta 0:00:01\r\u001b[K     |█████▏                          | 245kB 22.4MB/s eta 0:00:01\r\u001b[K     |█████▍                          | 256kB 22.4MB/s eta 0:00:01\r\u001b[K     |█████▋                          | 266kB 22.4MB/s eta 0:00:01\r\u001b[K     |█████▉                          | 276kB 22.4MB/s eta 0:00:01\r\u001b[K     |██████                          | 286kB 22.4MB/s eta 0:00:01\r\u001b[K     |██████▎                         | 296kB 22.4MB/s eta 0:00:01\r\u001b[K     |██████▌                         | 307kB 22.4MB/s eta 0:00:01\r\u001b[K     |██████▊                         | 317kB 22.4MB/s eta 0:00:01\r\u001b[K     |███████                         | 327kB 22.4MB/s eta 0:00:01\r\u001b[K     |███████▏                        | 337kB 22.4MB/s eta 0:00:01\r\u001b[K     |███████▍                        | 348kB 22.4MB/s eta 0:00:01\r\u001b[K     |███████▋                        | 358kB 22.4MB/s eta 0:00:01\r\u001b[K     |███████▉                        | 368kB 22.4MB/s eta 0:00:01\r\u001b[K     |████████                        | 378kB 22.4MB/s eta 0:00:01\r\u001b[K     |████████▎                       | 389kB 22.4MB/s eta 0:00:01\r\u001b[K     |████████▌                       | 399kB 22.4MB/s eta 0:00:01\r\u001b[K     |████████▋                       | 409kB 22.4MB/s eta 0:00:01\r\u001b[K     |████████▉                       | 419kB 22.4MB/s eta 0:00:01\r\u001b[K     |█████████                       | 430kB 22.4MB/s eta 0:00:01\r\u001b[K     |█████████▎                      | 440kB 22.4MB/s eta 0:00:01\r\u001b[K     |█████████▌                      | 450kB 22.4MB/s eta 0:00:01\r\u001b[K     |█████████▊                      | 460kB 22.4MB/s eta 0:00:01\r\u001b[K     |██████████                      | 471kB 22.4MB/s eta 0:00:01\r\u001b[K     |██████████▏                     | 481kB 22.4MB/s eta 0:00:01\r\u001b[K     |██████████▍                     | 491kB 22.4MB/s eta 0:00:01\r\u001b[K     |██████████▋                     | 501kB 22.4MB/s eta 0:00:01\r\u001b[K     |██████████▉                     | 512kB 22.4MB/s eta 0:00:01\r\u001b[K     |███████████                     | 522kB 22.4MB/s eta 0:00:01\r\u001b[K     |███████████▎                    | 532kB 22.4MB/s eta 0:00:01\r\u001b[K     |███████████▌                    | 542kB 22.4MB/s eta 0:00:01\r\u001b[K     |███████████▊                    | 552kB 22.4MB/s eta 0:00:01\r\u001b[K     |████████████                    | 563kB 22.4MB/s eta 0:00:01\r\u001b[K     |████████████▏                   | 573kB 22.4MB/s eta 0:00:01\r\u001b[K     |████████████▍                   | 583kB 22.4MB/s eta 0:00:01\r\u001b[K     |████████████▋                   | 593kB 22.4MB/s eta 0:00:01\r\u001b[K     |████████████▉                   | 604kB 22.4MB/s eta 0:00:01\r\u001b[K     |█████████████                   | 614kB 22.4MB/s eta 0:00:01\r\u001b[K     |█████████████▏                  | 624kB 22.4MB/s eta 0:00:01\r\u001b[K     |█████████████▍                  | 634kB 22.4MB/s eta 0:00:01\r\u001b[K     |█████████████▋                  | 645kB 22.4MB/s eta 0:00:01\r\u001b[K     |█████████████▉                  | 655kB 22.4MB/s eta 0:00:01\r\u001b[K     |██████████████                  | 665kB 22.4MB/s eta 0:00:01\r\u001b[K     |██████████████▎                 | 675kB 22.4MB/s eta 0:00:01\r\u001b[K     |██████████████▌                 | 686kB 22.4MB/s eta 0:00:01\r\u001b[K     |██████████████▊                 | 696kB 22.4MB/s eta 0:00:01\r\u001b[K     |███████████████                 | 706kB 22.4MB/s eta 0:00:01\r\u001b[K     |███████████████▏                | 716kB 22.4MB/s eta 0:00:01\r\u001b[K     |███████████████▍                | 727kB 22.4MB/s eta 0:00:01\r\u001b[K     |███████████████▋                | 737kB 22.4MB/s eta 0:00:01\r\u001b[K     |███████████████▉                | 747kB 22.4MB/s eta 0:00:01\r\u001b[K     |████████████████                | 757kB 22.4MB/s eta 0:00:01\r\u001b[K     |████████████████▎               | 768kB 22.4MB/s eta 0:00:01\r\u001b[K     |████████████████▌               | 778kB 22.4MB/s eta 0:00:01\r\u001b[K     |████████████████▊               | 788kB 22.4MB/s eta 0:00:01\r\u001b[K     |█████████████████               | 798kB 22.4MB/s eta 0:00:01\r\u001b[K     |█████████████████               | 808kB 22.4MB/s eta 0:00:01\r\u001b[K     |█████████████████▎              | 819kB 22.4MB/s eta 0:00:01\r\u001b[K     |█████████████████▌              | 829kB 22.4MB/s eta 0:00:01\r\u001b[K     |█████████████████▊              | 839kB 22.4MB/s eta 0:00:01\r\u001b[K     |██████████████████              | 849kB 22.4MB/s eta 0:00:01\r\u001b[K     |██████████████████▏             | 860kB 22.4MB/s eta 0:00:01\r\u001b[K     |██████████████████▍             | 870kB 22.4MB/s eta 0:00:01\r\u001b[K     |██████████████████▋             | 880kB 22.4MB/s eta 0:00:01\r\u001b[K     |██████████████████▉             | 890kB 22.4MB/s eta 0:00:01\r\u001b[K     |███████████████████             | 901kB 22.4MB/s eta 0:00:01\r\u001b[K     |███████████████████▎            | 911kB 22.4MB/s eta 0:00:01\r\u001b[K     |███████████████████▌            | 921kB 22.4MB/s eta 0:00:01\r\u001b[K     |███████████████████▊            | 931kB 22.4MB/s eta 0:00:01\r\u001b[K     |████████████████████            | 942kB 22.4MB/s eta 0:00:01\r\u001b[K     |████████████████████▏           | 952kB 22.4MB/s eta 0:00:01\r\u001b[K     |████████████████████▍           | 962kB 22.4MB/s eta 0:00:01\r\u001b[K     |████████████████████▋           | 972kB 22.4MB/s eta 0:00:01\r\u001b[K     |████████████████████▉           | 983kB 22.4MB/s eta 0:00:01\r\u001b[K     |█████████████████████           | 993kB 22.4MB/s eta 0:00:01\r\u001b[K     |█████████████████████▎          | 1.0MB 22.4MB/s eta 0:00:01\r\u001b[K     |█████████████████████▍          | 1.0MB 22.4MB/s eta 0:00:01\r\u001b[K     |█████████████████████▋          | 1.0MB 22.4MB/s eta 0:00:01\r\u001b[K     |█████████████████████▉          | 1.0MB 22.4MB/s eta 0:00:01\r\u001b[K     |██████████████████████          | 1.0MB 22.4MB/s eta 0:00:01\r\u001b[K     |██████████████████████▎         | 1.1MB 22.4MB/s eta 0:00:01\r\u001b[K     |██████████████████████▌         | 1.1MB 22.4MB/s eta 0:00:01\r\u001b[K     |██████████████████████▊         | 1.1MB 22.4MB/s eta 0:00:01\r\u001b[K     |███████████████████████         | 1.1MB 22.4MB/s eta 0:00:01\r\u001b[K     |███████████████████████▏        | 1.1MB 22.4MB/s eta 0:00:01\r\u001b[K     |███████████████████████▍        | 1.1MB 22.4MB/s eta 0:00:01\r\u001b[K     |███████████████████████▋        | 1.1MB 22.4MB/s eta 0:00:01\r\u001b[K     |███████████████████████▉        | 1.1MB 22.4MB/s eta 0:00:01\r\u001b[K     |████████████████████████        | 1.1MB 22.4MB/s eta 0:00:01\r\u001b[K     |████████████████████████▎       | 1.1MB 22.4MB/s eta 0:00:01\r\u001b[K     |████████████████████████▌       | 1.2MB 22.4MB/s eta 0:00:01\r\u001b[K     |████████████████████████▊       | 1.2MB 22.4MB/s eta 0:00:01\r\u001b[K     |█████████████████████████       | 1.2MB 22.4MB/s eta 0:00:01\r\u001b[K     |█████████████████████████▏      | 1.2MB 22.4MB/s eta 0:00:01\r\u001b[K     |█████████████████████████▍      | 1.2MB 22.4MB/s eta 0:00:01\r\u001b[K     |█████████████████████████▋      | 1.2MB 22.4MB/s eta 0:00:01\r\u001b[K     |█████████████████████████▊      | 1.2MB 22.4MB/s eta 0:00:01\r\u001b[K     |██████████████████████████      | 1.2MB 22.4MB/s eta 0:00:01\r\u001b[K     |██████████████████████████▏     | 1.2MB 22.4MB/s eta 0:00:01\r\u001b[K     |██████████████████████████▍     | 1.2MB 22.4MB/s eta 0:00:01\r\u001b[K     |██████████████████████████▋     | 1.3MB 22.4MB/s eta 0:00:01\r\u001b[K     |██████████████████████████▉     | 1.3MB 22.4MB/s eta 0:00:01\r\u001b[K     |███████████████████████████     | 1.3MB 22.4MB/s eta 0:00:01\r\u001b[K     |███████████████████████████▎    | 1.3MB 22.4MB/s eta 0:00:01\r\u001b[K     |███████████████████████████▌    | 1.3MB 22.4MB/s eta 0:00:01\r\u001b[K     |███████████████████████████▊    | 1.3MB 22.4MB/s eta 0:00:01\r\u001b[K     |████████████████████████████    | 1.3MB 22.4MB/s eta 0:00:01\r\u001b[K     |████████████████████████████▏   | 1.3MB 22.4MB/s eta 0:00:01\r\u001b[K     |████████████████████████████▍   | 1.3MB 22.4MB/s eta 0:00:01\r\u001b[K     |████████████████████████████▋   | 1.4MB 22.4MB/s eta 0:00:01\r\u001b[K     |████████████████████████████▉   | 1.4MB 22.4MB/s eta 0:00:01\r\u001b[K     |█████████████████████████████   | 1.4MB 22.4MB/s eta 0:00:01\r\u001b[K     |█████████████████████████████▎  | 1.4MB 22.4MB/s eta 0:00:01\r\u001b[K     |█████████████████████████████▌  | 1.4MB 22.4MB/s eta 0:00:01\r\u001b[K     |█████████████████████████████▊  | 1.4MB 22.4MB/s eta 0:00:01\r\u001b[K     |█████████████████████████████▉  | 1.4MB 22.4MB/s eta 0:00:01\r\u001b[K     |██████████████████████████████  | 1.4MB 22.4MB/s eta 0:00:01\r\u001b[K     |██████████████████████████████▎ | 1.4MB 22.4MB/s eta 0:00:01\r\u001b[K     |██████████████████████████████▌ | 1.4MB 22.4MB/s eta 0:00:01\r\u001b[K     |██████████████████████████████▊ | 1.5MB 22.4MB/s eta 0:00:01\r\u001b[K     |███████████████████████████████ | 1.5MB 22.4MB/s eta 0:00:01\r\u001b[K     |███████████████████████████████▏| 1.5MB 22.4MB/s eta 0:00:01\r\u001b[K     |███████████████████████████████▍| 1.5MB 22.4MB/s eta 0:00:01\r\u001b[K     |███████████████████████████████▋| 1.5MB 22.4MB/s eta 0:00:01\r\u001b[K     |███████████████████████████████▉| 1.5MB 22.4MB/s eta 0:00:01\r\u001b[K     |████████████████████████████████| 1.5MB 22.4MB/s \n",
            "\u001b[?25hRequirement already satisfied: filelock in /usr/local/lib/python3.6/dist-packages (from transformers) (3.0.12)\n",
            "Collecting tokenizers==0.9.4\n",
            "\u001b[?25l  Downloading https://files.pythonhosted.org/packages/0f/1c/e789a8b12e28be5bc1ce2156cf87cb522b379be9cadc7ad8091a4cc107c4/tokenizers-0.9.4-cp36-cp36m-manylinux2010_x86_64.whl (2.9MB)\n",
            "\u001b[K     |████████████████████████████████| 2.9MB 50.5MB/s \n",
            "\u001b[?25hRequirement already satisfied: packaging in /usr/local/lib/python3.6/dist-packages (from transformers) (20.8)\n",
            "Requirement already satisfied: dataclasses; python_version < \"3.7\" in /usr/local/lib/python3.6/dist-packages (from transformers) (0.8)\n",
            "Requirement already satisfied: regex!=2019.12.17 in /usr/local/lib/python3.6/dist-packages (from transformers) (2019.12.20)\n",
            "Collecting sacremoses\n",
            "\u001b[?25l  Downloading https://files.pythonhosted.org/packages/7d/34/09d19aff26edcc8eb2a01bed8e98f13a1537005d31e95233fd48216eed10/sacremoses-0.0.43.tar.gz (883kB)\n",
            "\u001b[K     |████████████████████████████████| 890kB 49.6MB/s \n",
            "\u001b[?25hRequirement already satisfied: tqdm>=4.27 in /usr/local/lib/python3.6/dist-packages (from transformers) (4.41.1)\n",
            "Requirement already satisfied: numpy in /usr/local/lib/python3.6/dist-packages (from transformers) (1.19.4)\n",
            "Requirement already satisfied: requests in /usr/local/lib/python3.6/dist-packages (from transformers) (2.23.0)\n",
            "Requirement already satisfied: pyparsing>=2.0.2 in /usr/local/lib/python3.6/dist-packages (from packaging->transformers) (2.4.7)\n",
            "Requirement already satisfied: six in /usr/local/lib/python3.6/dist-packages (from sacremoses->transformers) (1.15.0)\n",
            "Requirement already satisfied: click in /usr/local/lib/python3.6/dist-packages (from sacremoses->transformers) (7.1.2)\n",
            "Requirement already satisfied: joblib in /usr/local/lib/python3.6/dist-packages (from sacremoses->transformers) (1.0.0)\n",
            "Requirement already satisfied: certifi>=2017.4.17 in /usr/local/lib/python3.6/dist-packages (from requests->transformers) (2020.12.5)\n",
            "Requirement already satisfied: idna<3,>=2.5 in /usr/local/lib/python3.6/dist-packages (from requests->transformers) (2.10)\n",
            "Requirement already satisfied: chardet<4,>=3.0.2 in /usr/local/lib/python3.6/dist-packages (from requests->transformers) (3.0.4)\n",
            "Requirement already satisfied: urllib3!=1.25.0,!=1.25.1,<1.26,>=1.21.1 in /usr/local/lib/python3.6/dist-packages (from requests->transformers) (1.24.3)\n",
            "Building wheels for collected packages: sacremoses\n",
            "  Building wheel for sacremoses (setup.py) ... \u001b[?25l\u001b[?25hdone\n",
            "  Created wheel for sacremoses: filename=sacremoses-0.0.43-cp36-none-any.whl size=893261 sha256=b72af5ed43648d9b7b7e5b9373a5fcb864f6cf3a3d0ae897d18c86702341259d\n",
            "  Stored in directory: /root/.cache/pip/wheels/29/3c/fd/7ce5c3f0666dab31a50123635e6fb5e19ceb42ce38d4e58f45\n",
            "Successfully built sacremoses\n",
            "Installing collected packages: tokenizers, sacremoses, transformers\n",
            "Successfully installed sacremoses-0.0.43 tokenizers-0.9.4 transformers-4.1.1\n",
            "Thu Dec 17 18:13:34 2020       \n",
            "+-----------------------------------------------------------------------------+\n",
            "| NVIDIA-SMI 455.45.01    Driver Version: 418.67       CUDA Version: 10.1     |\n",
            "|-------------------------------+----------------------+----------------------+\n",
            "| GPU  Name        Persistence-M| Bus-Id        Disp.A | Volatile Uncorr. ECC |\n",
            "| Fan  Temp  Perf  Pwr:Usage/Cap|         Memory-Usage | GPU-Util  Compute M. |\n",
            "|                               |                      |               MIG M. |\n",
            "|===============================+======================+======================|\n",
            "|   0  Tesla T4            Off  | 00000000:00:04.0 Off |                    0 |\n",
            "| N/A   65C    P8    10W /  70W |      0MiB / 15079MiB |      0%      Default |\n",
            "|                               |                      |                 ERR! |\n",
            "+-------------------------------+----------------------+----------------------+\n",
            "                                                                               \n",
            "+-----------------------------------------------------------------------------+\n",
            "| Processes:                                                                  |\n",
            "|  GPU   GI   CI        PID   Type   Process name                  GPU Memory |\n",
            "|        ID   ID                                                   Usage      |\n",
            "|=============================================================================|\n",
            "|  No running processes found                                                 |\n",
            "+-----------------------------------------------------------------------------+\n"
          ],
          "name": "stdout"
        }
      ]
    },
    {
      "cell_type": "code",
      "metadata": {
        "colab": {
          "base_uri": "https://localhost:8080/",
          "height": 213,
          "referenced_widgets": [
            "c039d5dea8314e11864a1f8fe55cf39f",
            "8bf7ba0778bf4e97a27da3a7f790f0c5",
            "bec812752c97447ead8227691d8be388",
            "cd818cab993b4a41bc1ef71cfa51f312",
            "a591d8d730c144d1a56b264ece2fd3a0",
            "9a3d30d5ef0b4027b988344906704c52",
            "cf9d2fb014f0460d90d1585b49d3c82a",
            "72ea8af8ea644088a2da734c55c1f2f4",
            "ed2254ccdbfe4590976d659e8c471e63",
            "b30831fc79074c04a0bed8b2d0adf1db",
            "ac6f814816044e9dabb105f0c28d3245",
            "9374e4a83fc44bfab04d35c49dc33890",
            "965a357d1da74956ae5a471e53f136a5",
            "0c82c6980113448fa730586f7415ce80",
            "aad236322d13416a9c5ed1ae9e660612",
            "b67a3c26f8c441ef8cd00f5c6a81dad8",
            "2816b05b4a4e49999403613142e7ab3a",
            "77e4e98de6524d06b13bdcfa5dc1b03b",
            "21f33edfb8e346329fc5630d91cce726",
            "e9fdc70d4ea8484ebe4e6008b7b319d3",
            "4424af7466fe4579a8666d5ec477246e",
            "3bb3dd86dcbd4b31896028f4794823f1",
            "4724711046e24bb5af8446bb3e617943",
            "763d1b6c2b2b48ea8fb46912109495c7",
            "4960b38510464cbf927e694f53327fe0",
            "5f2a9615876842dfb2f10424aef7b1c9",
            "e0e7372f71224ecb84d5b2a4a13d7f6c",
            "e72d78e9a7a449d09c167738d565a70c",
            "f527ffc82eba49dd9d86043d47851302",
            "86b6c12ba550461bb022d7ecb3c6aed5",
            "c67bac668aa74385a032cafbdcb4bfeb",
            "2754823e579045d480587747d5a8f4c8"
          ]
        },
        "id": "iar44lLC6B5H",
        "outputId": "5e8fae30-1214-455a-e5a3-e2455e5aa94d"
      },
      "source": [
        "from transformers import AutoTokenizer\n",
        "tokenizer = AutoTokenizer.from_pretrained(\"gpt2\")\n",
        "train_path = 'data/train.text'\n",
        "test_path = 'data/test.text'"
      ],
      "execution_count": null,
      "outputs": [
        {
          "output_type": "display_data",
          "data": {
            "application/vnd.jupyter.widget-view+json": {
              "model_id": "c039d5dea8314e11864a1f8fe55cf39f",
              "version_minor": 0,
              "version_major": 2
            },
            "text/plain": [
              "HBox(children=(FloatProgress(value=0.0, description='Downloading', max=665.0, style=ProgressStyle(description_…"
            ]
          },
          "metadata": {
            "tags": []
          }
        },
        {
          "output_type": "stream",
          "text": [
            "\n"
          ],
          "name": "stdout"
        },
        {
          "output_type": "display_data",
          "data": {
            "application/vnd.jupyter.widget-view+json": {
              "model_id": "ed2254ccdbfe4590976d659e8c471e63",
              "version_minor": 0,
              "version_major": 2
            },
            "text/plain": [
              "HBox(children=(FloatProgress(value=0.0, description='Downloading', max=1042301.0, style=ProgressStyle(descript…"
            ]
          },
          "metadata": {
            "tags": []
          }
        },
        {
          "output_type": "stream",
          "text": [
            "\n"
          ],
          "name": "stdout"
        },
        {
          "output_type": "display_data",
          "data": {
            "application/vnd.jupyter.widget-view+json": {
              "model_id": "2816b05b4a4e49999403613142e7ab3a",
              "version_minor": 0,
              "version_major": 2
            },
            "text/plain": [
              "HBox(children=(FloatProgress(value=0.0, description='Downloading', max=456318.0, style=ProgressStyle(descripti…"
            ]
          },
          "metadata": {
            "tags": []
          }
        },
        {
          "output_type": "stream",
          "text": [
            "\n"
          ],
          "name": "stdout"
        },
        {
          "output_type": "display_data",
          "data": {
            "application/vnd.jupyter.widget-view+json": {
              "model_id": "4960b38510464cbf927e694f53327fe0",
              "version_minor": 0,
              "version_major": 2
            },
            "text/plain": [
              "HBox(children=(FloatProgress(value=0.0, description='Downloading', max=1355256.0, style=ProgressStyle(descript…"
            ]
          },
          "metadata": {
            "tags": []
          }
        },
        {
          "output_type": "stream",
          "text": [
            "\n"
          ],
          "name": "stdout"
        }
      ]
    },
    {
      "cell_type": "code",
      "metadata": {
        "colab": {
          "base_uri": "https://localhost:8080/"
        },
        "id": "_k0_nO5C6VM-",
        "outputId": "4817daeb-7eae-490d-df59-12bd55b0eb8a"
      },
      "source": [
        "from transformers import TextDataset,DataCollatorForLanguageModeling\n",
        "\n",
        "def load_dataset(train_path,test_path,tokenizer):\n",
        "    train_dataset = TextDataset(\n",
        "          tokenizer=tokenizer,\n",
        "          file_path=train_path,\n",
        "          block_size=128)\n",
        "     \n",
        "    test_dataset = TextDataset(\n",
        "          tokenizer=tokenizer,\n",
        "          file_path=test_path,\n",
        "          block_size=128)   \n",
        "    \n",
        "    data_collator = DataCollatorForLanguageModeling(\n",
        "        tokenizer=tokenizer, mlm=False,\n",
        "    )\n",
        "    return train_dataset,test_dataset,data_collator\n",
        "\n",
        "train_dataset,test_dataset,data_collator = load_dataset(train_path,test_path,tokenizer)"
      ],
      "execution_count": null,
      "outputs": [
        {
          "output_type": "stream",
          "text": [
            "/usr/local/lib/python3.6/dist-packages/transformers/data/datasets/language_modeling.py:58: FutureWarning: This dataset will be removed from the library soon, preprocessing should be handled with the 🤗 Datasets library. You can have a look at this example script for pointers: https://github.com/huggingface/transformers/blob/master/examples/language-modeling/run_mlm.py\n",
            "  FutureWarning,\n",
            "Token indices sequence length is longer than the specified maximum sequence length for this model (2873795 > 1024). Running this sequence through the model will result in indexing errors\n"
          ],
          "name": "stderr"
        }
      ]
    },
    {
      "cell_type": "code",
      "metadata": {
        "colab": {
          "base_uri": "https://localhost:8080/",
          "height": 120,
          "referenced_widgets": [
            "f59b670f130a483bb289370ec7f15305",
            "651a84e07e204bd99ab19bb73225b34b",
            "30c2e7d86c6645aaad8da2000498d78d",
            "6c3d702d83cc4c4c9d57810ac9a04d6b",
            "bff51eb65ea84ecf93d3a816cf59be0e",
            "0e46cce0ce224583b66954925f0fdec9",
            "2c5b72f893854464ac6d0953d371c9f4",
            "b4815b4420374a40adc2b42dea6d7128"
          ]
        },
        "id": "hfsF0TL66YTP",
        "outputId": "39ff1cda-8835-4445-d30b-8c714a5a68d6"
      },
      "source": [
        "from transformers import Trainer, TrainingArguments,AutoModelWithLMHead\n",
        "\n",
        "model = AutoModelWithLMHead.from_pretrained(\"gpt2\")\n",
        "\n",
        "\n",
        "training_args = TrainingArguments(\n",
        "    output_dir=\"./gpt2-small\", #The output directory\n",
        "    overwrite_output_dir=True, #overwrite the content of the output directory\n",
        "    num_train_epochs=3, # number of training epochs\n",
        "    per_device_train_batch_size=4, # batch size for training\n",
        "    per_device_eval_batch_size=8,  # batch size for evaluation\n",
        "    eval_steps = 400, # Number of update steps between two evaluations.\n",
        "    save_steps=800, # after # steps model is saved \n",
        "    warmup_steps=500,# number of warmup steps for learning rate scheduler\n",
        "    )\n",
        "\n",
        "\n",
        "trainer = Trainer(\n",
        "    model=model,\n",
        "    args=training_args,\n",
        "    data_collator=data_collator,\n",
        "    train_dataset=train_dataset,\n",
        "    eval_dataset=test_dataset#,\n",
        "    #prediction_loss_only=True,\n",
        ")"
      ],
      "execution_count": null,
      "outputs": [
        {
          "output_type": "stream",
          "text": [
            "/usr/local/lib/python3.6/dist-packages/transformers/models/auto/modeling_auto.py:890: FutureWarning: The class `AutoModelWithLMHead` is deprecated and will be removed in a future version. Please use `AutoModelForCausalLM` for causal language models, `AutoModelForMaskedLM` for masked language models and `AutoModelForSeq2SeqLM` for encoder-decoder models.\n",
            "  FutureWarning,\n"
          ],
          "name": "stderr"
        },
        {
          "output_type": "display_data",
          "data": {
            "application/vnd.jupyter.widget-view+json": {
              "model_id": "f59b670f130a483bb289370ec7f15305",
              "version_minor": 0,
              "version_major": 2
            },
            "text/plain": [
              "HBox(children=(FloatProgress(value=0.0, description='Downloading', max=548118077.0, style=ProgressStyle(descri…"
            ]
          },
          "metadata": {
            "tags": []
          }
        },
        {
          "output_type": "stream",
          "text": [
            "\n"
          ],
          "name": "stdout"
        }
      ]
    },
    {
      "cell_type": "code",
      "metadata": {
        "colab": {
          "base_uri": "https://localhost:8080/",
          "height": 1000
        },
        "id": "Ni_A5yxD6yy3",
        "outputId": "89c8bf1f-690e-4eaf-967e-dd6e5f2706d5"
      },
      "source": [
        "trainer.train()"
      ],
      "execution_count": null,
      "outputs": [
        {
          "output_type": "display_data",
          "data": {
            "text/html": [
              "\n",
              "    <div>\n",
              "        <style>\n",
              "            /* Turns off some styling */\n",
              "            progress {\n",
              "                /* gets rid of default border in Firefox and Opera. */\n",
              "                border: none;\n",
              "                /* Needs to be in here for Safari polyfill so background images work as expected. */\n",
              "                background-size: auto;\n",
              "            }\n",
              "        </style>\n",
              "      \n",
              "      <progress value='16839' max='16839' style='width:300px; height:20px; vertical-align: middle;'></progress>\n",
              "      [16839/16839 54:46, Epoch 3/3]\n",
              "    </div>\n",
              "    <table border=\"1\" class=\"dataframe\">\n",
              "  <thead>\n",
              "    <tr style=\"text-align: left;\">\n",
              "      <th>Step</th>\n",
              "      <th>Training Loss</th>\n",
              "    </tr>\n",
              "  </thead>\n",
              "  <tbody>\n",
              "    <tr>\n",
              "      <td>500</td>\n",
              "      <td>5.042520</td>\n",
              "    </tr>\n",
              "    <tr>\n",
              "      <td>1000</td>\n",
              "      <td>5.036117</td>\n",
              "    </tr>\n",
              "    <tr>\n",
              "      <td>1500</td>\n",
              "      <td>4.989939</td>\n",
              "    </tr>\n",
              "    <tr>\n",
              "      <td>2000</td>\n",
              "      <td>5.010702</td>\n",
              "    </tr>\n",
              "    <tr>\n",
              "      <td>2500</td>\n",
              "      <td>5.001751</td>\n",
              "    </tr>\n",
              "    <tr>\n",
              "      <td>3000</td>\n",
              "      <td>4.978792</td>\n",
              "    </tr>\n",
              "    <tr>\n",
              "      <td>3500</td>\n",
              "      <td>4.971245</td>\n",
              "    </tr>\n",
              "    <tr>\n",
              "      <td>4000</td>\n",
              "      <td>4.926037</td>\n",
              "    </tr>\n",
              "    <tr>\n",
              "      <td>4500</td>\n",
              "      <td>5.008585</td>\n",
              "    </tr>\n",
              "    <tr>\n",
              "      <td>5000</td>\n",
              "      <td>4.980477</td>\n",
              "    </tr>\n",
              "    <tr>\n",
              "      <td>5500</td>\n",
              "      <td>4.967719</td>\n",
              "    </tr>\n",
              "    <tr>\n",
              "      <td>6000</td>\n",
              "      <td>4.788549</td>\n",
              "    </tr>\n",
              "    <tr>\n",
              "      <td>6500</td>\n",
              "      <td>4.739717</td>\n",
              "    </tr>\n",
              "    <tr>\n",
              "      <td>7000</td>\n",
              "      <td>4.758491</td>\n",
              "    </tr>\n",
              "    <tr>\n",
              "      <td>7500</td>\n",
              "      <td>4.751586</td>\n",
              "    </tr>\n",
              "    <tr>\n",
              "      <td>8000</td>\n",
              "      <td>4.784874</td>\n",
              "    </tr>\n",
              "    <tr>\n",
              "      <td>8500</td>\n",
              "      <td>4.738245</td>\n",
              "    </tr>\n",
              "    <tr>\n",
              "      <td>9000</td>\n",
              "      <td>4.753395</td>\n",
              "    </tr>\n",
              "    <tr>\n",
              "      <td>9500</td>\n",
              "      <td>4.755061</td>\n",
              "    </tr>\n",
              "    <tr>\n",
              "      <td>10000</td>\n",
              "      <td>4.725329</td>\n",
              "    </tr>\n",
              "    <tr>\n",
              "      <td>10500</td>\n",
              "      <td>4.737679</td>\n",
              "    </tr>\n",
              "    <tr>\n",
              "      <td>11000</td>\n",
              "      <td>4.745823</td>\n",
              "    </tr>\n",
              "    <tr>\n",
              "      <td>11500</td>\n",
              "      <td>4.665973</td>\n",
              "    </tr>\n",
              "    <tr>\n",
              "      <td>12000</td>\n",
              "      <td>4.605596</td>\n",
              "    </tr>\n",
              "    <tr>\n",
              "      <td>12500</td>\n",
              "      <td>4.588221</td>\n",
              "    </tr>\n",
              "    <tr>\n",
              "      <td>13000</td>\n",
              "      <td>4.608419</td>\n",
              "    </tr>\n",
              "    <tr>\n",
              "      <td>13500</td>\n",
              "      <td>4.653015</td>\n",
              "    </tr>\n",
              "    <tr>\n",
              "      <td>14000</td>\n",
              "      <td>4.607533</td>\n",
              "    </tr>\n",
              "    <tr>\n",
              "      <td>14500</td>\n",
              "      <td>4.586190</td>\n",
              "    </tr>\n",
              "    <tr>\n",
              "      <td>15000</td>\n",
              "      <td>4.657063</td>\n",
              "    </tr>\n",
              "    <tr>\n",
              "      <td>15500</td>\n",
              "      <td>4.574012</td>\n",
              "    </tr>\n",
              "    <tr>\n",
              "      <td>16000</td>\n",
              "      <td>4.613381</td>\n",
              "    </tr>\n",
              "    <tr>\n",
              "      <td>16500</td>\n",
              "      <td>4.591044</td>\n",
              "    </tr>\n",
              "  </tbody>\n",
              "</table><p>"
            ],
            "text/plain": [
              "<IPython.core.display.HTML object>"
            ]
          },
          "metadata": {
            "tags": []
          }
        },
        {
          "output_type": "execute_result",
          "data": {
            "text/plain": [
              "TrainOutput(global_step=16839, training_loss=4.783071659644742)"
            ]
          },
          "metadata": {
            "tags": []
          },
          "execution_count": 5
        }
      ]
    },
    {
      "cell_type": "code",
      "metadata": {
        "id": "zD2oKo9_IQAV"
      },
      "source": [
        "trainer.save_model()"
      ],
      "execution_count": null,
      "outputs": []
    },
    {
      "cell_type": "code",
      "metadata": {
        "id": "RaClwGQsIGHU"
      },
      "source": [
        "from transformers import pipeline\n",
        "ModelTest = pipeline('text-generation',model='./gpt2-small', tokenizer='gpt2',config={'max_length':800})"
      ],
      "execution_count": null,
      "outputs": []
    },
    {
      "cell_type": "code",
      "metadata": {
        "colab": {
          "base_uri": "https://localhost:8080/"
        },
        "id": "H-gEITUYIT0u",
        "outputId": "4509ef0a-650d-4133-8d3b-fe4ad8d23866"
      },
      "source": [
        "ModelTest('We will be travelling to New Zealand')"
      ],
      "execution_count": null,
      "outputs": [
        {
          "output_type": "stream",
          "text": [
            "Setting `pad_token_id` to `eos_token_id`:50256 for open-end generation.\n"
          ],
          "name": "stderr"
        },
        {
          "output_type": "execute_result",
          "data": {
            "text/plain": [
              "[{'generated_text': 'We will be travelling to New Zealand because we need to know more about it and help the people there.  \"What makes New Zealand special is its unique and multicultural culture where everyone knows what a welcoming and welcoming country it has become.\"  If you'}]"
            ]
          },
          "metadata": {
            "tags": []
          },
          "execution_count": 9
        }
      ]
    },
    {
      "cell_type": "code",
      "metadata": {
        "colab": {
          "base_uri": "https://localhost:8080/"
        },
        "id": "9NanwZeUIqAv",
        "outputId": "2d57fefd-7f9e-4d8f-a3c8-696fe189c2b2"
      },
      "source": [
        "ModelTest('The Governor of Alaska announced')"
      ],
      "execution_count": null,
      "outputs": [
        {
          "output_type": "stream",
          "text": [
            "Setting `pad_token_id` to `eos_token_id`:50256 for open-end generation.\n"
          ],
          "name": "stderr"
        },
        {
          "output_type": "execute_result",
          "data": {
            "text/plain": [
              "[{'generated_text': 'The Governor of Alaska announced Tuesday that they will launch a nationwide recall action to determine if the National Hockey League could ban playoff participation of the two top teams.   In a statement, Alaska Governor Mary Fallin said that the \"state will be able'}]"
            ]
          },
          "metadata": {
            "tags": []
          },
          "execution_count": 10
        }
      ]
    },
    {
      "cell_type": "code",
      "metadata": {
        "colab": {
          "base_uri": "https://localhost:8080/"
        },
        "id": "FFfLt4dfIsQU",
        "outputId": "a2099c08-e080-4318-fa01-2c58ae21b80d"
      },
      "source": [
        "ModelTest('The Government Relief includes')"
      ],
      "execution_count": null,
      "outputs": [
        {
          "output_type": "stream",
          "text": [
            "Setting `pad_token_id` to `eos_token_id`:50256 for open-end generation.\n"
          ],
          "name": "stderr"
        },
        {
          "output_type": "execute_result",
          "data": {
            "text/plain": [
              "[{'generated_text': \"The Government Relief includes various grants of up to 75% of total benefits and loans to local councils.  However, even though the funding is based on a series of data such as a report by the UK's Housing First Alliance and UK Council Socialists\"}]"
            ]
          },
          "metadata": {
            "tags": []
          },
          "execution_count": 11
        }
      ]
    },
    {
      "cell_type": "code",
      "metadata": {
        "colab": {
          "base_uri": "https://localhost:8080/"
        },
        "id": "-0im9CryIuMW",
        "outputId": "df650d9c-e3aa-4cf7-811c-57b6859a5b3a"
      },
      "source": [
        "ModelTest('Justice Ruth Bader Ginsburg')"
      ],
      "execution_count": null,
      "outputs": [
        {
          "output_type": "stream",
          "text": [
            "Setting `pad_token_id` to `eos_token_id`:50256 for open-end generation.\n"
          ],
          "name": "stderr"
        },
        {
          "output_type": "execute_result",
          "data": {
            "text/plain": [
              "[{'generated_text': \"Justice Ruth Bader Ginsburg's last couple of years as solicitor general, to run a powerful national law firm. In the next couple of months she will likely spend a lot of personal time in her home state, with the occasional overseas trip to the\"}]"
            ]
          },
          "metadata": {
            "tags": []
          },
          "execution_count": 12
        }
      ]
    },
    {
      "cell_type": "code",
      "metadata": {
        "colab": {
          "base_uri": "https://localhost:8080/"
        },
        "id": "8k_VNyl6IwCF",
        "outputId": "84abc93f-aa2c-421d-bb96-fbb87a3dc38b"
      },
      "source": [
        "ModelTest('The North Korean President')"
      ],
      "execution_count": null,
      "outputs": [
        {
          "output_type": "stream",
          "text": [
            "Setting `pad_token_id` to `eos_token_id`:50256 for open-end generation.\n"
          ],
          "name": "stderr"
        },
        {
          "output_type": "execute_result",
          "data": {
            "text/plain": [
              "[{'generated_text': 'The North Korean President suggested that a \"calorie bomb\\'\\' could be launched at United States Pacific Command. Mr. North said a \"calorie bomb\" could be launched at U.S. Pacific Command with a warning signal that it was over for'}]"
            ]
          },
          "metadata": {
            "tags": []
          },
          "execution_count": 13
        }
      ]
    },
    {
      "cell_type": "code",
      "metadata": {
        "colab": {
          "base_uri": "https://localhost:8080/"
        },
        "id": "MgSY9wJGIy1F",
        "outputId": "862b8714-b56a-4fe0-932f-6e985eee0c9d"
      },
      "source": [
        "ModelTest('Columbia University')"
      ],
      "execution_count": null,
      "outputs": [
        {
          "output_type": "stream",
          "text": [
            "Setting `pad_token_id` to `eos_token_id`:50256 for open-end generation.\n"
          ],
          "name": "stderr"
        },
        {
          "output_type": "execute_result",
          "data": {
            "text/plain": [
              "[{'generated_text': \"Columbia University's Center for Reproductive Rights says such policies violate both the First Amendment and the First Amendment.  (Reporting by Mark Williams; Editing by Cynthia Osterling)  The Washington Times has reported on a series of disturbing incidents in which\"}]"
            ]
          },
          "metadata": {
            "tags": []
          },
          "execution_count": 14
        }
      ]
    },
    {
      "cell_type": "code",
      "metadata": {
        "colab": {
          "base_uri": "https://localhost:8080/"
        },
        "id": "1rBjuhB-I0Js",
        "outputId": "36289c8a-9972-454d-a9a1-cc932da3669a"
      },
      "source": [
        "ModelTest('Artficial Intelligence')"
      ],
      "execution_count": null,
      "outputs": [
        {
          "output_type": "stream",
          "text": [
            "Setting `pad_token_id` to `eos_token_id`:50256 for open-end generation.\n"
          ],
          "name": "stderr"
        },
        {
          "output_type": "execute_result",
          "data": {
            "text/plain": [
              "[{'generated_text': 'Artficial Intelligence  Culpriting Up  P.W. Miller: \"The Left\\'s Secret War on Democracy\"  On September 22, 2014, Michael Weiss, the director of the left-wing Center for American Progress called on President'}]"
            ]
          },
          "metadata": {
            "tags": []
          },
          "execution_count": 15
        }
      ]
    },
    {
      "cell_type": "markdown",
      "metadata": {
        "id": "77HN2qLHNMth"
      },
      "source": [
        "References"
      ]
    },
    {
      "cell_type": "markdown",
      "metadata": {
        "id": "mpSB0STQNScJ"
      },
      "source": [
        "\n",
        "1.   https://github.com/philschmid/fine-tune-GPT-2/blob/master/Fine_tune_a_non_English_GPT_2_Model_with_Huggingface.ipynb\n",
        "2.  Dataset: https://github.com/openai/gpt-2-output-dataset\n",
        "\n"
      ]
    }
  ]
}